{
  "nbformat": 4,
  "nbformat_minor": 0,
  "metadata": {
    "colab": {
      "name": "juego_piedra_papel _tijera.ipynb",
      "provenance": [],
      "authorship_tag": "ABX9TyNIEZB2xs5wHRzl+Ipl3N5L",
      "include_colab_link": true
    },
    "kernelspec": {
      "name": "python3",
      "display_name": "Python 3"
    },
    "language_info": {
      "name": "python"
    }
  },
  "cells": [
    {
      "cell_type": "markdown",
      "metadata": {
        "id": "view-in-github",
        "colab_type": "text"
      },
      "source": [
        "<a href=\"https://colab.research.google.com/github/christian-alexis/Algoritmos/blob/main/juego_piedra_papel__tijera.ipynb\" target=\"_parent\"><img src=\"https://colab.research.google.com/assets/colab-badge.svg\" alt=\"Open In Colab\"/></a>"
      ]
    },
    {
      "cell_type": "code",
      "metadata": {
        "colab": {
          "base_uri": "https://localhost:8080/"
        },
        "id": "fwxSZyJZhP12",
        "outputId": "7e72ec9d-8a36-4139-ddab-5b57c8215ffc"
      },
      "source": [
        "opComp = random.randint(0,2)\n",
        "print(\"Opciones 0=piedra 1=papel 2=tijeras\")\n",
        "opHumano=int(input(\"Escribe una opcion  \"))\n",
        "print(\"La eleccion de la computadora es:\",opComp)\n",
        "resultado = (opComp - opHumano) % 3\n",
        "print(resultado)\n",
        "if (resultado==0):\n",
        "    print(\"es un empate\")\n",
        "if (resultado==1):\n",
        "    print(\"gana la computadora\")\n",
        "if (resultado==2):\n",
        "    print(\"gana el humano\")"
      ],
      "execution_count": 2,
      "outputs": [
        {
          "output_type": "stream",
          "name": "stdout",
          "text": [
            "Opciones 0=piedra 1=papel 2=tijeras\n",
            "Escribe una opcion  1\n",
            "La eleccion de la computadora es: 0\n",
            "2\n",
            "gana el humano\n"
          ]
        }
      ]
    },
    {
      "cell_type": "code",
      "metadata": {
        "colab": {
          "base_uri": "https://localhost:8080/"
        },
        "id": "VxYpGerXgJxh",
        "outputId": "0be42543-0edf-4086-8127-62a9de5b6307"
      },
      "source": [
        "#problema piedra - papel - tijeras - lagarto - Spock\n",
        "import random\n",
        "\n",
        "def num2nom(num):\n",
        "    if (num==0):\n",
        "        return \"piedra\"\n",
        "    elif (num==1):\n",
        "        return \"tijeras\"\n",
        "    elif (num==2):\n",
        "        return \"lagarto\"\n",
        "    elif (num==3):\n",
        "        return \"papel\"\n",
        "    elif (num==4):\n",
        "        return \"Spock\"\n",
        "\n",
        "print(\"opciones: \\n0 = piedra \\n1 = tijeras\\n2 = lagarto\")\n",
        "print(\"3 = papel \\n4 = Spock\")\n",
        "opHumano = int(input(\"escribe opcion:\"))\n",
        "opComp = random.randint(0,4)\n",
        "\n",
        "print(\"la opción humana fue:\",num2nom(opHumano))\n",
        "print(\"La eleccion de la computadora es: \",num2nom(opComp))\n",
        "resultado = (opHumano - opComp) % 5\n",
        "if (resultado==0):\n",
        "    print(\"es un empate\")\n",
        "else:\n",
        "    if (resultado>2):\n",
        "        print(\"ganaste!!!\")\n",
        "    else:\n",
        "        print(\"gana la computadora!\")"
      ],
      "execution_count": 1,
      "outputs": [
        {
          "output_type": "stream",
          "name": "stdout",
          "text": [
            "opciones: \n",
            "0 = piedra \n",
            "1 = tijeras\n",
            "2 = lagarto\n",
            "3 = papel \n",
            "4 = Spock\n",
            "escribe opcion:1\n",
            "la opción humana fue: tijeras\n",
            "La eleccion de la computadora es:  piedra\n",
            "gana la computadora!\n"
          ]
        }
      ]
    }
  ]
}