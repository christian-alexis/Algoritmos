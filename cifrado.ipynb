{
  "nbformat": 4,
  "nbformat_minor": 0,
  "metadata": {
    "colab": {
      "name": "cifrado.ipynb",
      "provenance": [],
      "authorship_tag": "ABX9TyM2y9CGDqYO95CFt2MnT9zR",
      "include_colab_link": true
    },
    "kernelspec": {
      "name": "python3",
      "display_name": "Python 3"
    },
    "language_info": {
      "name": "python"
    }
  },
  "cells": [
    {
      "cell_type": "markdown",
      "metadata": {
        "id": "view-in-github",
        "colab_type": "text"
      },
      "source": [
        "<a href=\"https://colab.research.google.com/github/christian-alexis/Algoritmos/blob/main/cifrado.ipynb\" target=\"_parent\"><img src=\"https://colab.research.google.com/assets/colab-badge.svg\" alt=\"Open In Colab\"/></a>"
      ]
    },
    {
      "cell_type": "code",
      "metadata": {
        "colab": {
          "base_uri": "https://localhost:8080/"
        },
        "id": "4FywBTfawSSI",
        "outputId": "11628251-b916-4734-d065-9fc9b646e727"
      },
      "source": [
        "texto= \"hola\"\n",
        "alfabeto=\"abcdefghijklmnñopqrstuvxwyz\"\n",
        "\n",
        "for c in texto:\n",
        "     pos=alfabeto.index(c)\n",
        "     pos2= (pos+1)%26\n",
        "     print(c,pos,alfabeto[pos2])\n",
        "\n",
        "\n",
        "\n"
      ],
      "execution_count": 4,
      "outputs": [
        {
          "output_type": "stream",
          "name": "stdout",
          "text": [
            "h 7 i\n",
            "o 15 p\n",
            "l 11 m\n",
            "a 0 b\n"
          ]
        }
      ]
    },
    {
      "cell_type": "code",
      "metadata": {
        "colab": {
          "base_uri": "https://localhost:8080/"
        },
        "id": "T8vxs-RqyT-i",
        "outputId": "4bf4da70-4a0d-4aa1-a28e-431a72b77f00"
      },
      "source": [
        "def cifradoCesar(cad, llave):\n",
        "    cad = cad.lower()\n",
        "    alfabeto=\"abcdefghijklmnopqrstuvwxyz\"\n",
        "    cifrado= \"\"\n",
        "    for c in cad:\n",
        "        if (c in alfabeto):\n",
        "            pos=alfabeto.index(c)\n",
        "            pos2= (pos+llave)%26\n",
        "            cifrado=cifrado + alfabeto[pos2]\n",
        "        else:\n",
        "            cifrado= cifrado + c\n",
        "        \n",
        "    return cifrado\n",
        "\n",
        "\n",
        "\n",
        "for i in range (26):\n",
        "    print(cifradoCesar(\"hola a todos\",i))\n",
        "\n"
      ],
      "execution_count": 32,
      "outputs": [
        {
          "output_type": "stream",
          "name": "stdout",
          "text": [
            "hola a todos\n",
            "ipmb b upept\n",
            "jqnc c vqfqu\n",
            "krod d wrgrv\n",
            "lspe e xshsw\n",
            "mtqf f ytitx\n",
            "nurg g zujuy\n",
            "ovsh h avkvz\n",
            "pwti i bwlwa\n",
            "qxuj j cxmxb\n",
            "ryvk k dynyc\n",
            "szwl l ezozd\n",
            "taxm m fapae\n",
            "ubyn n gbqbf\n",
            "vczo o hcrcg\n",
            "wdap p idsdh\n",
            "xebq q jetei\n",
            "yfcr r kfufj\n",
            "zgds s lgvgk\n",
            "ahet t mhwhl\n",
            "bifu u nixim\n",
            "cjgv v ojyjn\n",
            "dkhw w pkzko\n",
            "elix x qlalp\n",
            "fmjy y rmbmq\n",
            "gnkz z sncnr\n"
          ]
        }
      ]
    },
    {
      "cell_type": "code",
      "metadata": {
        "colab": {
          "base_uri": "https://localhost:8080/"
        },
        "id": "ova2q8aj2Vwr",
        "outputId": "eaf40fd3-81d8-4a56-bd45-0aa51d236624"
      },
      "source": [
        "def descifradoCesar(cad, llave):\n",
        "    cad = cad.lower()\n",
        "    alfabeto=\"abcdefghijklmnñopqrstuvxwyz\"\n",
        "    cifrado= \"\"\n",
        "    for c in cad:\n",
        "        if (c in alfabeto):\n",
        "            pos=alfabeto.index(c)\n",
        "            pos2= (pos-llave)%26\n",
        "            cifrado=cifrado + alfabeto[pos2]\n",
        "        else:\n",
        "            cifrado= cifrado + c\n",
        "        \n",
        "    return cifrado\n",
        "\n",
        "\n",
        "texto=\"Buenos dias jovenes\"\n",
        "textoCifrado=cifradoCesar(texto,1)\n",
        "print(textoCifrado)\n",
        "\n",
        "prueba=descifradoCesar(textoCifrado,1)\n",
        "print(prueba)\n",
        "\n"
      ],
      "execution_count": 16,
      "outputs": [
        {
          "output_type": "stream",
          "name": "stdout",
          "text": [
            "cvfñpt ejbt kpxfñft\n",
            "buenos dias jovenes\n"
          ]
        }
      ]
    },
    {
      "cell_type": "code",
      "metadata": {
        "colab": {
          "base_uri": "https://localhost:8080/"
        },
        "id": "3w6IW_8j4D9p",
        "outputId": "ef23dba0-bf44-4b0a-fb15-0f393961bc5a"
      },
      "source": [
        "a=\"wklw wk wd lwplg imw lawfwf imw vwkumtjaj\"\n",
        "for i in range (25):\n",
        "    print(cifradoCesar(a,i))"
      ],
      "execution_count": 33,
      "outputs": [
        {
          "output_type": "stream",
          "name": "stdout",
          "text": [
            "wklw wk wd lwplg imw lawfwf imw vwkumtjaj\n",
            "xlmx xl xe mxqmh jnx mbxgxg jnx wxlvnukbk\n",
            "ymny ym yf nyrni koy ncyhyh koy xymwovlcl\n",
            "znoz zn zg ozsoj lpz odzizi lpz yznxpwmdm\n",
            "aopa ao ah patpk mqa peajaj mqa zaoyqxnen\n",
            "bpqb bp bi qbuql nrb qfbkbk nrb abpzryofo\n",
            "cqrc cq cj rcvrm osc rgclcl osc bcqaszpgp\n",
            "drsd dr dk sdwsn ptd shdmdm ptd cdrbtaqhq\n",
            "este es el texto que tienen que descubrir\n",
            "ftuf ft fm ufyup rvf ujfofo rvf eftdvcsjs\n",
            "guvg gu gn vgzvq swg vkgpgp swg fguewdtkt\n",
            "hvwh hv ho whawr txh wlhqhq txh ghvfxeulu\n",
            "iwxi iw ip xibxs uyi xmirir uyi hiwgyfvmv\n",
            "jxyj jx jq yjcyt vzj ynjsjs vzj ijxhzgwnw\n",
            "kyzk ky kr zkdzu wak zoktkt wak jkyiahxox\n",
            "lzal lz ls aleav xbl aplulu xbl klzjbiypy\n",
            "mabm ma mt bmfbw ycm bqmvmv ycm lmakcjzqz\n",
            "nbcn nb nu cngcx zdn crnwnw zdn mnbldkara\n",
            "ocdo oc ov dohdy aeo dsoxox aeo nocmelbsb\n",
            "pdep pd pw epiez bfp etpypy bfp opdnfmctc\n",
            "qefq qe qx fqjfa cgq fuqzqz cgq pqeogndud\n",
            "rfgr rf ry grkgb dhr gvrara dhr qrfphoeve\n",
            "sghs sg sz hslhc eis hwsbsb eis rsgqipfwf\n",
            "thit th ta itmid fjt ixtctc fjt sthrjqgxg\n",
            "uiju ui ub junje gku jyudud gku tuiskrhyh\n"
          ]
        }
      ]
    },
    {
      "cell_type": "code",
      "metadata": {
        "colab": {
          "base_uri": "https://localhost:8080/"
        },
        "id": "BToOO7LC7X8H",
        "outputId": "12a85975-1dd1-482c-c79e-60c2bb75e045"
      },
      "source": [
        "def cifraSustituye (cad, llave):\n",
        "    alfabeto = \"abcdefghijklmnopqrstuvwxyz\"\n",
        "    cad = cad.lower()\n",
        "    cifrado = \"\"\n",
        "    for c in cad:\n",
        "        if (c in alfabeto):\n",
        "            pos=alfabeto.index(c)\n",
        "            cifrado=cifrado+llave[pos]\n",
        "        else:\n",
        "            cifrado=cifrado+c\n",
        "            \n",
        "    return cifrado\n",
        "\n",
        "texto = \"Este es un texto cifrado que solo la nasa puede desifrar para encontar la llave de la felicidad\"\\\n",
        "        \"por que soy el mejor programador\"\n",
        "llave = \"biqdhrsltjgnokufmcavwxyzep\"\n",
        "prueba = cifraSustituye (texto, llave)\n",
        "print(prueba)"
      ],
      "execution_count": 39,
      "outputs": [
        {
          "output_type": "stream",
          "name": "stdout",
          "text": [
            "havh ha wk vhzvu qtrcbdu mwh aunu nb kbab fwhdh dhatrcbc fbcb hkqukvbc nb nnbxh dh nb rhntqtdbdfuc mwh aue hn ohjuc fcuscbobduc\n"
          ]
        }
      ]
    },
    {
      "cell_type": "code",
      "metadata": {
        "colab": {
          "base_uri": "https://localhost:8080/"
        },
        "id": "Xq0Ycoo19NJW",
        "outputId": "e703d409-f67d-48d0-bc68-76699b21dbcf"
      },
      "source": [
        "def descifraSustituye (cad, llave):\n",
        "    alfabeto = \"abcdefghijklmnopqrstuvwxyz\"\n",
        "    cad = cad.lower()\n",
        "    texto = \"\"\n",
        "    for c in cad:\n",
        "        if (c in alfabeto):\n",
        "            pos=llave.index(c)\n",
        "            texto=texto+alfabeto[pos]\n",
        "        else:\n",
        "            texto=texto+c            \n",
        "    return texto\n",
        "\n",
        "\n",
        "claro = descifraSustituye(prueba, llave)\n",
        "print(claro)"
      ],
      "execution_count": 38,
      "outputs": [
        {
          "output_type": "stream",
          "name": "stdout",
          "text": [
            "hola\n"
          ]
        }
      ]
    }
  ]
}